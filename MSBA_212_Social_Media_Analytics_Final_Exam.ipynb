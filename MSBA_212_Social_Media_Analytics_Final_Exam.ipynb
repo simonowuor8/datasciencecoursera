{
  "nbformat": 4,
  "nbformat_minor": 0,
  "metadata": {
    "colab": {
      "provenance": [],
      "authorship_tag": "ABX9TyP+UkDD4kSGe2nulmz6uSrY",
      "include_colab_link": true
    },
    "kernelspec": {
      "name": "python3",
      "display_name": "Python 3"
    },
    "language_info": {
      "name": "python"
    }
  },
  "cells": [
    {
      "cell_type": "markdown",
      "metadata": {
        "id": "view-in-github",
        "colab_type": "text"
      },
      "source": [
        "<a href=\"https://colab.research.google.com/github/simonowuor8/datasciencecoursera/blob/main/MSBA_212_Social_Media_Analytics_Final_Exam.ipynb\" target=\"_parent\"><img src=\"https://colab.research.google.com/assets/colab-badge.svg\" alt=\"Open In Colab\"/></a>"
      ]
    },
    {
      "cell_type": "code",
      "source": [
        "!pip install youtube-transcript-api"
      ],
      "metadata": {
        "colab": {
          "base_uri": "https://localhost:8080/"
        },
        "id": "N5nfFRpi2siD",
        "outputId": "4049b699-19aa-47e4-9342-36aed1d54d39"
      },
      "execution_count": 2,
      "outputs": [
        {
          "output_type": "stream",
          "name": "stdout",
          "text": [
            "Collecting youtube-transcript-api\n",
            "  Downloading youtube_transcript_api-0.6.1-py3-none-any.whl (24 kB)\n",
            "Requirement already satisfied: requests in /usr/local/lib/python3.10/dist-packages (from youtube-transcript-api) (2.31.0)\n",
            "Requirement already satisfied: charset-normalizer<4,>=2 in /usr/local/lib/python3.10/dist-packages (from requests->youtube-transcript-api) (3.3.2)\n",
            "Requirement already satisfied: idna<4,>=2.5 in /usr/local/lib/python3.10/dist-packages (from requests->youtube-transcript-api) (3.6)\n",
            "Requirement already satisfied: urllib3<3,>=1.21.1 in /usr/local/lib/python3.10/dist-packages (from requests->youtube-transcript-api) (2.0.7)\n",
            "Requirement already satisfied: certifi>=2017.4.17 in /usr/local/lib/python3.10/dist-packages (from requests->youtube-transcript-api) (2023.11.17)\n",
            "Installing collected packages: youtube-transcript-api\n",
            "Successfully installed youtube-transcript-api-0.6.1\n"
          ]
        }
      ]
    },
    {
      "cell_type": "markdown",
      "source": [
        "Question 1: Select a TV show with at least two seasons. For each season of this show, select two different Youtube review videos. Accordingly, scrape the captions of these 4 Youtube videos and save the results into csv files for further analysis. (5 points)"
      ],
      "metadata": {
        "id": "C_vMGqWT3jet"
      }
    },
    {
      "cell_type": "code",
      "execution_count": 3,
      "metadata": {
        "id": "gsisTfNt1WA6"
      },
      "outputs": [],
      "source": [
        "import csv\n",
        "from googleapiclient.discovery import build\n",
        "from youtube_transcript_api import YouTubeTranscriptApi\n",
        "\n",
        "# Set up YouTube Data API v3\n",
        "api_key = 'YOUR_API_KEY'\n",
        "youtube = build('youtube', 'v3', developerKey=api_key)\n",
        "\n",
        "# Function to get playlist items or a single video\n",
        "def get_video_list(input_id):\n",
        "    if isinstance(input_id, list):\n",
        "        # If input is a playlist (list of video IDs)\n",
        "        videos = []\n",
        "        for video_id in input_id:\n",
        "            try:\n",
        "                captions = YouTubeTranscriptApi.get_transcript(video_id)\n",
        "                if captions:\n",
        "                    videos.append({\n",
        "                        'Video ID': video_id,\n",
        "                        'Captions': captions\n",
        "                    })\n",
        "            except Exception as e:\n",
        "                print(f\"Error fetching captions for video {video_id}: {str(e)}\")\n",
        "        return videos\n",
        "    else:\n",
        "        # If input is a single video\n",
        "        try:\n",
        "            captions = YouTubeTranscriptApi.get_transcript(input_id)\n",
        "            if captions:\n",
        "                return [{\n",
        "                    'Video ID': input_id,\n",
        "                    'Captions': captions\n",
        "                }]\n",
        "        except Exception as e:\n",
        "            print(f\"Error fetching captions for video {input_id}: {str(e)}\")\n",
        "        return []\n",
        "\n",
        "# Function to store captions in a CSV file\n",
        "def store_captions_to_csv(video_list, csv_filename):\n",
        "    with open(csv_filename, 'w', newline='', encoding='utf-8') as csvfile:\n",
        "        fieldnames = ['Video ID', 'Start', 'Duration', 'Text']\n",
        "        writer = csv.DictWriter(csvfile, fieldnames=fieldnames)\n",
        "        writer.writeheader()\n",
        "\n",
        "        for video in video_list:\n",
        "            video_id = video['Video ID']\n",
        "            captions = video['Captions']\n",
        "            for caption in captions:\n",
        "                writer.writerow({\n",
        "                    'Video ID': video_id,\n",
        "                    'Start': caption['start'],\n",
        "                    'Duration': caption['duration'],\n",
        "                    'Text': caption['text']\n",
        "                })\n",
        "\n",
        "# Function to fetch captions for playlist or single video and store in CSV\n",
        "def fetch_and_store_captions(video_ids, csv_filename):\n",
        "    video_list = get_video_list(video_ids)\n",
        "    store_captions_to_csv(video_list, csv_filename)\n",
        "\n",
        "# Example usage:\n",
        "# Replace 'YOUR_PLAYLIST_OR_VIDEO_ID' with the actual playlist ID or video ID\n",
        "playlist_or_video_ids = [\"O36lgfQ7mDk\", \"CcpmD5J8xOk\", \"k5S62lVAuy8\", \"DuSMAj0lGis\"]\n",
        "\n",
        "# Replace 'captions.csv' with your desired CSV filename\n",
        "csv_filename = 'captions.csv'\n",
        "\n",
        "fetch_and_store_captions(playlist_or_video_ids, csv_filename)\n"
      ]
    },
    {
      "cell_type": "markdown",
      "source": [
        "Question 2: Perform statical analysis to see if there are meaningful differences between the following. Interpret your findings. (5 points)"
      ],
      "metadata": {
        "id": "RII_gOBo31DX"
      }
    },
    {
      "cell_type": "code",
      "source": [],
      "metadata": {
        "id": "ydMx8Oeg3ESG"
      },
      "execution_count": null,
      "outputs": []
    },
    {
      "cell_type": "code",
      "source": [],
      "metadata": {
        "id": "V-S7XTDl3xmC"
      },
      "execution_count": null,
      "outputs": []
    },
    {
      "cell_type": "code",
      "source": [],
      "metadata": {
        "id": "GfDMHTOx3xu7"
      },
      "execution_count": null,
      "outputs": []
    },
    {
      "cell_type": "code",
      "source": [],
      "metadata": {
        "id": "revJaEC33x4b"
      },
      "execution_count": null,
      "outputs": []
    }
  ]
}