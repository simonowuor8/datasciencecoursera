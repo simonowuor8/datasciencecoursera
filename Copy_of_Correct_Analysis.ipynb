{
  "nbformat": 4,
  "nbformat_minor": 0,
  "metadata": {
    "colab": {
      "provenance": [],
      "authorship_tag": "ABX9TyPR6FOVK2DyOdVuFrycCAJX",
      "include_colab_link": true
    },
    "kernelspec": {
      "name": "python3",
      "display_name": "Python 3"
    },
    "language_info": {
      "name": "python"
    }
  },
  "cells": [
    {
      "cell_type": "markdown",
      "metadata": {
        "id": "view-in-github",
        "colab_type": "text"
      },
      "source": [
        "<a href=\"https://colab.research.google.com/github/simonowuor8/datasciencecoursera/blob/main/Copy_of_Correct_Analysis.ipynb\" target=\"_parent\"><img src=\"https://colab.research.google.com/assets/colab-badge.svg\" alt=\"Open In Colab\"/></a>"
      ]
    },
    {
      "cell_type": "markdown",
      "source": [
        "The purpose of this project is help a real world organization make data driven business decisions by analyzing the provided Linkedin data in the light of the questions provided by the business owner."
      ],
      "metadata": {
        "id": "i6_82jP-7yEk"
      }
    },
    {
      "cell_type": "markdown",
      "source": [
        "*DATA IMPORTATION*.\n",
        "In this section I viewed the data and the types of variables"
      ],
      "metadata": {
        "id": "37RJ8GR9zBba"
      }
    },
    {
      "cell_type": "code",
      "execution_count": 2,
      "metadata": {
        "colab": {
          "base_uri": "https://localhost:8080/",
          "height": 73
        },
        "id": "kGCsjLlqn8F1",
        "outputId": "8d92e1de-3e69-4922-8376-f3532480c7ce"
      },
      "outputs": [
        {
          "output_type": "display_data",
          "data": {
            "text/plain": [
              "<IPython.core.display.HTML object>"
            ],
            "text/html": [
              "\n",
              "     <input type=\"file\" id=\"files-8bdc827d-c43a-49ba-93b3-606ca6d9e7fc\" name=\"files[]\" multiple disabled\n",
              "        style=\"border:none\" />\n",
              "     <output id=\"result-8bdc827d-c43a-49ba-93b3-606ca6d9e7fc\">\n",
              "      Upload widget is only available when the cell has been executed in the\n",
              "      current browser session. Please rerun this cell to enable.\n",
              "      </output>\n",
              "      <script>// Copyright 2017 Google LLC\n",
              "//\n",
              "// Licensed under the Apache License, Version 2.0 (the \"License\");\n",
              "// you may not use this file except in compliance with the License.\n",
              "// You may obtain a copy of the License at\n",
              "//\n",
              "//      http://www.apache.org/licenses/LICENSE-2.0\n",
              "//\n",
              "// Unless required by applicable law or agreed to in writing, software\n",
              "// distributed under the License is distributed on an \"AS IS\" BASIS,\n",
              "// WITHOUT WARRANTIES OR CONDITIONS OF ANY KIND, either express or implied.\n",
              "// See the License for the specific language governing permissions and\n",
              "// limitations under the License.\n",
              "\n",
              "/**\n",
              " * @fileoverview Helpers for google.colab Python module.\n",
              " */\n",
              "(function(scope) {\n",
              "function span(text, styleAttributes = {}) {\n",
              "  const element = document.createElement('span');\n",
              "  element.textContent = text;\n",
              "  for (const key of Object.keys(styleAttributes)) {\n",
              "    element.style[key] = styleAttributes[key];\n",
              "  }\n",
              "  return element;\n",
              "}\n",
              "\n",
              "// Max number of bytes which will be uploaded at a time.\n",
              "const MAX_PAYLOAD_SIZE = 100 * 1024;\n",
              "\n",
              "function _uploadFiles(inputId, outputId) {\n",
              "  const steps = uploadFilesStep(inputId, outputId);\n",
              "  const outputElement = document.getElementById(outputId);\n",
              "  // Cache steps on the outputElement to make it available for the next call\n",
              "  // to uploadFilesContinue from Python.\n",
              "  outputElement.steps = steps;\n",
              "\n",
              "  return _uploadFilesContinue(outputId);\n",
              "}\n",
              "\n",
              "// This is roughly an async generator (not supported in the browser yet),\n",
              "// where there are multiple asynchronous steps and the Python side is going\n",
              "// to poll for completion of each step.\n",
              "// This uses a Promise to block the python side on completion of each step,\n",
              "// then passes the result of the previous step as the input to the next step.\n",
              "function _uploadFilesContinue(outputId) {\n",
              "  const outputElement = document.getElementById(outputId);\n",
              "  const steps = outputElement.steps;\n",
              "\n",
              "  const next = steps.next(outputElement.lastPromiseValue);\n",
              "  return Promise.resolve(next.value.promise).then((value) => {\n",
              "    // Cache the last promise value to make it available to the next\n",
              "    // step of the generator.\n",
              "    outputElement.lastPromiseValue = value;\n",
              "    return next.value.response;\n",
              "  });\n",
              "}\n",
              "\n",
              "/**\n",
              " * Generator function which is called between each async step of the upload\n",
              " * process.\n",
              " * @param {string} inputId Element ID of the input file picker element.\n",
              " * @param {string} outputId Element ID of the output display.\n",
              " * @return {!Iterable<!Object>} Iterable of next steps.\n",
              " */\n",
              "function* uploadFilesStep(inputId, outputId) {\n",
              "  const inputElement = document.getElementById(inputId);\n",
              "  inputElement.disabled = false;\n",
              "\n",
              "  const outputElement = document.getElementById(outputId);\n",
              "  outputElement.innerHTML = '';\n",
              "\n",
              "  const pickedPromise = new Promise((resolve) => {\n",
              "    inputElement.addEventListener('change', (e) => {\n",
              "      resolve(e.target.files);\n",
              "    });\n",
              "  });\n",
              "\n",
              "  const cancel = document.createElement('button');\n",
              "  inputElement.parentElement.appendChild(cancel);\n",
              "  cancel.textContent = 'Cancel upload';\n",
              "  const cancelPromise = new Promise((resolve) => {\n",
              "    cancel.onclick = () => {\n",
              "      resolve(null);\n",
              "    };\n",
              "  });\n",
              "\n",
              "  // Wait for the user to pick the files.\n",
              "  const files = yield {\n",
              "    promise: Promise.race([pickedPromise, cancelPromise]),\n",
              "    response: {\n",
              "      action: 'starting',\n",
              "    }\n",
              "  };\n",
              "\n",
              "  cancel.remove();\n",
              "\n",
              "  // Disable the input element since further picks are not allowed.\n",
              "  inputElement.disabled = true;\n",
              "\n",
              "  if (!files) {\n",
              "    return {\n",
              "      response: {\n",
              "        action: 'complete',\n",
              "      }\n",
              "    };\n",
              "  }\n",
              "\n",
              "  for (const file of files) {\n",
              "    const li = document.createElement('li');\n",
              "    li.append(span(file.name, {fontWeight: 'bold'}));\n",
              "    li.append(span(\n",
              "        `(${file.type || 'n/a'}) - ${file.size} bytes, ` +\n",
              "        `last modified: ${\n",
              "            file.lastModifiedDate ? file.lastModifiedDate.toLocaleDateString() :\n",
              "                                    'n/a'} - `));\n",
              "    const percent = span('0% done');\n",
              "    li.appendChild(percent);\n",
              "\n",
              "    outputElement.appendChild(li);\n",
              "\n",
              "    const fileDataPromise = new Promise((resolve) => {\n",
              "      const reader = new FileReader();\n",
              "      reader.onload = (e) => {\n",
              "        resolve(e.target.result);\n",
              "      };\n",
              "      reader.readAsArrayBuffer(file);\n",
              "    });\n",
              "    // Wait for the data to be ready.\n",
              "    let fileData = yield {\n",
              "      promise: fileDataPromise,\n",
              "      response: {\n",
              "        action: 'continue',\n",
              "      }\n",
              "    };\n",
              "\n",
              "    // Use a chunked sending to avoid message size limits. See b/62115660.\n",
              "    let position = 0;\n",
              "    do {\n",
              "      const length = Math.min(fileData.byteLength - position, MAX_PAYLOAD_SIZE);\n",
              "      const chunk = new Uint8Array(fileData, position, length);\n",
              "      position += length;\n",
              "\n",
              "      const base64 = btoa(String.fromCharCode.apply(null, chunk));\n",
              "      yield {\n",
              "        response: {\n",
              "          action: 'append',\n",
              "          file: file.name,\n",
              "          data: base64,\n",
              "        },\n",
              "      };\n",
              "\n",
              "      let percentDone = fileData.byteLength === 0 ?\n",
              "          100 :\n",
              "          Math.round((position / fileData.byteLength) * 100);\n",
              "      percent.textContent = `${percentDone}% done`;\n",
              "\n",
              "    } while (position < fileData.byteLength);\n",
              "  }\n",
              "\n",
              "  // All done.\n",
              "  yield {\n",
              "    response: {\n",
              "      action: 'complete',\n",
              "    }\n",
              "  };\n",
              "}\n",
              "\n",
              "scope.google = scope.google || {};\n",
              "scope.google.colab = scope.google.colab || {};\n",
              "scope.google.colab._files = {\n",
              "  _uploadFiles,\n",
              "  _uploadFilesContinue,\n",
              "};\n",
              "})(self);\n",
              "</script> "
            ]
          },
          "metadata": {}
        },
        {
          "output_type": "stream",
          "name": "stdout",
          "text": [
            "Saving CameronData.csv to CameronData.csv\n"
          ]
        }
      ],
      "source": [
        "from google.colab import files\n",
        "uploaded = files.upload()\n",
        "\n",
        "import pandas as pd\n",
        "import matplotlib.pyplot as plt\n",
        "\n",
        "# Load the LinkedIn data from the CSV file into a DataFrame\n",
        "cameronData = pd.read_csv('CameronData.csv')\n"
      ]
    },
    {
      "cell_type": "code",
      "source": [
        "# Print the column names in the DataFrame\n",
        "print(cameronData.columns)\n"
      ],
      "metadata": {
        "colab": {
          "base_uri": "https://localhost:8080/"
        },
        "id": "cqEbOdkooF_f",
        "outputId": "8bc123e4-7265-4ab9-a904-a37536fee6bb"
      },
      "execution_count": 3,
      "outputs": [
        {
          "output_type": "stream",
          "name": "stdout",
          "text": [
            "Index(['Index', 'Posting', 'PosterName', 'PostingDate', 'NumberofLikes',\n",
            "       'NumberofComments', 'NumberofReposts', 'NumberofOrganicImpressions',\n",
            "       'Comments', 'Commenters'],\n",
            "      dtype='object')\n"
          ]
        }
      ]
    },
    {
      "cell_type": "markdown",
      "source": [
        "QUESTION 1\n",
        "\n",
        "What is the engagement level of my LinkedIn posts and updates? Analyze the\n",
        "descriptive statistics regarding likes, comments, and shares"
      ],
      "metadata": {
        "id": "fvD7oA5ty2H9"
      }
    },
    {
      "cell_type": "markdown",
      "source": [
        "*In this section, you can use any method among these two approaches.*"
      ],
      "metadata": {
        "id": "0KHh5aPgpWDQ"
      }
    },
    {
      "cell_type": "code",
      "source": [
        "#APPROACH 1\n",
        "# Calculate descriptive statistics for likes, comments, and shares\n",
        "engagement_stats = cameronData[['NumberofLikes', 'NumberofComments', 'NumberofReposts']].describe()\n",
        "print(\"Descriptive Statistics:\")\n",
        "print(engagement_stats)\n"
      ],
      "metadata": {
        "colab": {
          "base_uri": "https://localhost:8080/"
        },
        "id": "RT6MekxMoXBJ",
        "outputId": "61c8d7cb-6cef-4496-fa2e-24d39edcac89"
      },
      "execution_count": 4,
      "outputs": [
        {
          "output_type": "stream",
          "name": "stdout",
          "text": [
            "Descriptive Statistics:\n",
            "       NumberofLikes  NumberofComments  NumberofReposts\n",
            "count      84.000000         84.000000        84.000000\n",
            "mean       11.833333          1.654762         2.642857\n",
            "std        14.027369          3.931627         2.595839\n",
            "min         0.000000          0.000000         0.000000\n",
            "25%         5.000000          0.000000         1.000000\n",
            "50%         9.000000          1.000000         2.000000\n",
            "75%        13.250000          2.000000         3.250000\n",
            "max       108.000000         33.000000        10.000000\n"
          ]
        }
      ]
    },
    {
      "cell_type": "code",
      "source": [
        "#APPROACH 2\n",
        "# Calculate descriptive statistics for likes, comments, and NumberofReposts\n",
        "likes_stats = cameronData[\"NumberofLikes\"].describe()\n",
        "comments_stats = cameronData[\"NumberofComments\"].describe()\n",
        "shares_stats = cameronData[\"NumberofReposts\"].describe()\n",
        "\n",
        "# Print the descriptive statistics\n",
        "print(\"NumberofLikes:\")\n",
        "print(likes_stats)\n",
        "print(\"\\nNumberofComments:\")\n",
        "print(comments_stats)\n",
        "print(\"\\nNumberofReposts:\")\n",
        "print(shares_stats)"
      ],
      "metadata": {
        "colab": {
          "base_uri": "https://localhost:8080/"
        },
        "id": "DvZeStYNocZr",
        "outputId": "f1508d00-f755-41de-9601-af82f28f5294"
      },
      "execution_count": 5,
      "outputs": [
        {
          "output_type": "stream",
          "name": "stdout",
          "text": [
            "NumberofLikes:\n",
            "count     84.000000\n",
            "mean      11.833333\n",
            "std       14.027369\n",
            "min        0.000000\n",
            "25%        5.000000\n",
            "50%        9.000000\n",
            "75%       13.250000\n",
            "max      108.000000\n",
            "Name: NumberofLikes, dtype: float64\n",
            "\n",
            "NumberofComments:\n",
            "count    84.000000\n",
            "mean      1.654762\n",
            "std       3.931627\n",
            "min       0.000000\n",
            "25%       0.000000\n",
            "50%       1.000000\n",
            "75%       2.000000\n",
            "max      33.000000\n",
            "Name: NumberofComments, dtype: float64\n",
            "\n",
            "NumberofReposts:\n",
            "count    84.000000\n",
            "mean      2.642857\n",
            "std       2.595839\n",
            "min       0.000000\n",
            "25%       1.000000\n",
            "50%       2.000000\n",
            "75%       3.250000\n",
            "max      10.000000\n",
            "Name: NumberofReposts, dtype: float64\n"
          ]
        }
      ]
    },
    {
      "cell_type": "code",
      "source": [
        "# Create histograms for likes, comments, and shares\n",
        "fig, axes = plt.subplots(1, 3, figsize=(15, 5))\n",
        "cameronData['NumberofLikes'].plot(kind='hist', ax=axes[0], title='NumberofLikes')\n",
        "cameronData['NumberofComments'].plot(kind='hist', ax=axes[1], title='NumberofComments')\n",
        "cameronData['NumberofReposts'].plot(kind='hist', ax=axes[2], title='NumberofReposts')\n",
        "\n",
        "# Show the plots\n",
        "plt.show()"
      ],
      "metadata": {
        "colab": {
          "base_uri": "https://localhost:8080/",
          "height": 468
        },
        "id": "wumt4aX0ppRc",
        "outputId": "3828f112-566a-4a6e-d049-9f0f13186b84"
      },
      "execution_count": 6,
      "outputs": [
        {
          "output_type": "display_data",
          "data": {
            "text/plain": [
              "<Figure size 1500x500 with 3 Axes>"
            ],
            "image/png": "[encoded data removed]"
          },
          "metadata": {}
        }
      ]
    },
    {
      "cell_type": "markdown",
      "source": [
        "QUESTION 2\n",
        "\n",
        "Who are the most influential connections in my network? Identify individuals with a large following or high engagement rates who may be valuable for networking or collaboration."
      ],
      "metadata": {
        "id": "-OgwsETiudbd"
      }
    },
    {
      "cell_type": "code",
      "source": [
        "# Define criteria for influential connections\n",
        "follower_threshold = 11  # I used the cut off to be 11 since its the mean\n",
        "engagement_threshold = 2  # I used 2 as the mean for both comments and repost\n",
        "\n",
        "# Filter and sort the dataset based on the defined criteria\n",
        "influential_connections = cameronData[\n",
        "    (cameronData['NumberofLikes'] >= follower_threshold) |\n",
        "    (cameronData['NumberofComments'] >= engagement_threshold) |\n",
        "    (cameronData['NumberofReposts'] >= engagement_threshold)\n",
        "]\n",
        "\n",
        "# Sort the influential connections by the \"Commenters\" column in descending order\n",
        "sorted_influential_commenters = influential_connections.sort_values(\n",
        "    by=['Commenters'],\n",
        "    ascending=False\n",
        ")\n",
        "\n",
        "# Print only the \"Commenters\" column\n",
        "print(\"Most Influential Commenters:\")\n",
        "print(sorted_influential_commenters[\"Commenters\"])"
      ],
      "metadata": {
        "colab": {
          "base_uri": "https://localhost:8080/"
        },
        "id": "U6-wwCiLujbF",
        "outputId": "33732067-7033-463b-c26b-af478e21828e"
      },
      "execution_count": 7,
      "outputs": [
        {
          "output_type": "stream",
          "name": "stdout",
          "text": [
            "Most Influential Commenters:\n",
            "3                                           TigerLaunch\n",
            "83     StartupSac, Startup Challenge, Startup Challenge\n",
            "74                                           StartupSac\n",
            "29      Ryan Radcliff, Kincy Clark, David Webb, Dom Nai\n",
            "58      Ronald Flores, Franklin Burris, Arelene Miranda\n",
            "78                    Rich ForemanView, Franklin Burris\n",
            "69                                           Obi Baratt\n",
            "31                                        Nina Essandoh\n",
            "45                             Neal Best, Samuel Taylor\n",
            "72    Maria Butler,Maria Butler,Maria Butler,Maria B...\n",
            "79    Mari-Lyn Harris, Franklin Burris, Carlsen Cent...\n",
            "50                  Laura Good, June Swatzell, Pam Kaur\n",
            "32    Kincy Clark, Cameron Law, Dick Gourley, Camero...\n",
            "44                        Joel Higginbotham, StartupSac\n",
            "16    Isaac Brown,Carsen Center of Innovation & Entr...\n",
            "75                                       George Parrish\n",
            "55                    Franklin Burris, Wesley Alexander\n",
            "41    Franklin Burris, Carsen Center of Innovation &...\n",
            "28                                      Franklin Burris\n",
            "71                                      Franklin Burris\n",
            "62                                      Franklin Burris\n",
            "27                                        FourthWave.io\n",
            "65    Ethan Bradley, Cameron Law, Arlene Miranda, Ca...\n",
            "34    Dick Gourley, Cameron Law, Global Entrepreneur...\n",
            "0     Dick Gourley, Cameron Law, Carlsen Center for ...\n",
            "54                                          Clinton Day\n",
            "19                                           CleanStart\n",
            "26       Carsen Center of Innovation & Entrepreneurship\n",
            "5     Cameron Law,Ethan Bradley, Ethan  Bradley, Ste...\n",
            "47    Cameron Law, Laura Good, Josh David Miller, St...\n",
            "1                  Cameron Law, Kwame Anku, Mark Takata\n",
            "57    Cameron Law, Josh David Miller, Startup Challenge\n",
            "43                            Cameron Law, Dick Gourley\n",
            "52                                          Cameron Law\n",
            "64                                          Cameron Law\n",
            "25                                          Cameron Law\n",
            "20                                          Cameron Law\n",
            "73    Azriel (A.Z) Nicdao, Joshua Maddox, Joshua Mad...\n",
            "56                                       Arlene Miranda\n",
            "46                                            Alisa Saw\n",
            "2                                                   NaN\n",
            "4                                                   NaN\n",
            "6                                                   NaN\n",
            "7                                                   NaN\n",
            "8                                                   NaN\n",
            "9                                                   NaN\n",
            "11                                                  NaN\n",
            "14                                                  NaN\n",
            "17                                                  NaN\n",
            "18                                                  NaN\n",
            "21                                                  NaN\n",
            "22                                                  NaN\n",
            "30                                                  NaN\n",
            "33                                                  NaN\n",
            "37                                                  NaN\n",
            "38                                                  NaN\n",
            "42                                                  NaN\n",
            "48                                                  NaN\n",
            "67                                                  NaN\n",
            "Name: Commenters, dtype: object\n"
          ]
        }
      ]
    },
    {
      "cell_type": "markdown",
      "source": [
        "QUESTION 3\n",
        "\n",
        "How has my network expanded through influential connections? Analyze the growth of your network after connecting with influential individuals."
      ],
      "metadata": {
        "id": "86psqjG-v0FD"
      }
    },
    {
      "cell_type": "code",
      "source": [
        "import pandas as pd\n",
        "import matplotlib.pyplot as plt\n",
        "\n",
        "# Convert 'PostingDate' to datetime\n",
        "cameronData['PostingDate'] = pd.to_datetime(cameronData['PostingDate'])\n",
        "\n",
        "# Sort the influential connections by the posting date\n",
        "sorted_influential_connections = cameronData.sort_values(by=['PostingDate'])\n",
        "\n",
        "# Calculate the growth of your network over time\n",
        "network_growth = sorted_influential_connections.groupby('PostingDate').size().cumsum()\n",
        "\n",
        "# Plot the network growth with reversed x-axis\n",
        "plt.figure(figsize=(12, 6))\n",
        "plt.plot(network_growth.index[::-1], network_growth.values[::-1], marker='o', linestyle='-')  # Reverse the order\n",
        "plt.title('Network Growth Through Influential Connections Over Time')\n",
        "plt.xlabel('Posting Date')\n",
        "plt.ylabel('Total Network Connections')\n",
        "plt.xticks(rotation=45)\n",
        "plt.grid()\n",
        "plt.show()\n"
      ],
      "metadata": {
        "colab": {
          "base_uri": "https://localhost:8080/",
          "height": 617
        },
        "id": "xyn4QrT83D8d",
        "outputId": "e37af06c-e7d3-44ef-bf68-b91ed9fd9457"
      },
      "execution_count": 11,
      "outputs": [
        {
          "output_type": "display_data",
          "data": {
            "text/plain": [
              "<Figure size 1200x600 with 1 Axes>"
            ],
            "image/png": "[encoded data removed]"
          },
          "metadata": {}
        }
      ]
    }
  ]
}